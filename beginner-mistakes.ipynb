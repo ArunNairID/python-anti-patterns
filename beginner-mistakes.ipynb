{
 "cells": [
  {
   "cell_type": "markdown",
   "metadata": {
    "slideshow": {
     "slide_type": "slide"
    }
   },
   "source": [
    "# Beginner Python Mistakes\n",
    "\n",
    "## What?\n",
    "\n",
    "At Galvanize, we see a lot of beginning Python programmers, and so have a unique insight into some of the traps they fall into.\n",
    "\n",
    "## So?\n",
    "\n",
    "Avoiding these mistakes may not change the logic or execution time of your code, but it will let anybody else reading it know that you're fluent in Python.\n",
    "\n",
    "This is especially important in interviews, where you may not get a chance to overcome the first impression your code makes!"
   ]
  },
  {
   "cell_type": "markdown",
   "metadata": {
    "slideshow": {
     "slide_type": "subslide"
    }
   },
   "source": [
    "# About me:\n",
    "\n",
    "## Isaac Laughlin\n",
    "Principal Instructor\n",
    "\n",
    "Galvanize\n",
    "\n",
    "San Francisco\n",
    "\n",
    "<a href=\"http://twitter.com/lemonlaug\">@lemonlaug</a>\n",
    "\n",
    "https://www.linkedin.com/in/ilaughlin\n",
    "\n",
    "isaac.laughlin@galvanize.com"
   ]
  },
  {
   "cell_type": "markdown",
   "metadata": {
    "slideshow": {
     "slide_type": "subslide"
    }
   },
   "source": [
    "# <img src=\"http://www.galvanize.com/wp-content/themes/galvanize/img/galvanize-logo.svg\" />\n",
    "\n",
    "A dynamic learning community for technology. A place where anyone with the aptitude and drive to learn can get the skills necessary to work in technology.\n",
    "\n",
    "### Part-time classes\n",
    "* Web Development Foundations in Javascript\n",
    "* Data Science Fundamentals: Intro to Python\n",
    "* Intro to Spark for Data Science\n",
    "\n",
    "### Full-time classes\n",
    "* Data Science Immersive \n",
    "* Web Development Immersive\n",
    "* Masters in Data Science\n",
    "* Data Engineering"
   ]
  },
  {
   "cell_type": "markdown",
   "metadata": {
    "slideshow": {
     "slide_type": "slide"
    }
   },
   "source": [
    "# Not using lists\n",
    "\n",
    "Everybody who learns python learns about lists, but sometimes they still fail to use them in places where they're appropriate!"
   ]
  },
  {
   "cell_type": "code",
   "execution_count": 1,
   "metadata": {
    "collapsed": false,
    "slideshow": {
     "slide_type": "subslide"
    }
   },
   "outputs": [
    {
     "data": {
      "text/plain": [
       "True"
      ]
     },
     "execution_count": 1,
     "metadata": {},
     "output_type": "execute_result"
    }
   ],
   "source": [
    "#What's this look like?\n",
    "import collections\n",
    "def is_full_house(card1, card2, card3, card4, card5):\n",
    "    \"\"\"Args: five cards.\n",
    "    \n",
    "    Checks if a five card hand is a full house.\n",
    "    \"\"\"\n",
    "    counts = collections.Counter([card1['value'], card2['value'], card3['value'], \n",
    "                        card4['value'], card5['value']]).values()\n",
    "    if 2 in counts and 3 in counts:\n",
    "        return True\n",
    "    return False\n",
    "is_full_house({'value':'k'}, {'value':'k'}, {'value':'k'},\n",
    "             {'value':'q'}, {'value':'q'})"
   ]
  },
  {
   "cell_type": "code",
   "execution_count": null,
   "metadata": {
    "collapsed": true,
    "slideshow": {
     "slide_type": "subslide"
    }
   },
   "outputs": [],
   "source": [
    "#Solution\n",
    "is_full_house([{'value':'k'}, {'value':'k'}, {'value':'k'},\n",
    "             {'value':'q'}, {'value':'q'}])"
   ]
  },
  {
   "cell_type": "code",
   "execution_count": 2,
   "metadata": {
    "collapsed": false,
    "slideshow": {
     "slide_type": "skip"
    }
   },
   "outputs": [
    {
     "name": "stdout",
     "output_type": "stream",
     "text": [
      "[2, 3]\n"
     ]
    },
    {
     "data": {
      "text/plain": [
       "True"
      ]
     },
     "execution_count": 2,
     "metadata": {},
     "output_type": "execute_result"
    }
   ],
   "source": [
    "def is_full_house(hand):\n",
    "    \"\"\"Args: list of five cards.\n",
    "    \n",
    "    Checks if a five card hand is a full house.\n",
    "    \"\"\"\n",
    "    counts = collections.Counter([card['value'] for card in hand]).values()\n",
    "    print(counts)\n",
    "    if 2 in counts and 3 in counts:\n",
    "        return True\n",
    "    return False\n",
    "is_full_house([{'value':'k'}, {'value':'k'}, {'value':'k'},\n",
    "             {'value':'q'}, {'value':'q'}])"
   ]
  },
  {
   "cell_type": "markdown",
   "metadata": {
    "slideshow": {
     "slide_type": "subslide"
    }
   },
   "source": [
    "How to recognize when you might be making this mistake:\n",
    "* Note the `variable_index` pattern in `card1` -- this is exactly what lists are for!\n",
    "    * To use this pattern, you need to know the variable name, and the index, also what you need to know for a list\n",
    "    \n",
    "Why it's important:\n",
    "* Easy extensibility/generalizability.\n",
    "* Don't Repeat Yourself (DRY)"
   ]
  },
  {
   "cell_type": "markdown",
   "metadata": {
    "slideshow": {
     "slide_type": "slide"
    }
   },
   "source": [
    "# Not using dicts\n",
    "\n",
    "Dicts are one of the things that makes Python so special, so using them liberally (and correctly) is a good way to signal your use!"
   ]
  },
  {
   "cell_type": "code",
   "execution_count": null,
   "metadata": {
    "collapsed": false,
    "slideshow": {
     "slide_type": "subslide"
    }
   },
   "outputs": [],
   "source": [
    "from __future__ import division\n",
    "#What's this look like?\n",
    "def wa_ca_averages(data):\n",
    "    \"\"\"Arg a list of tuples with state and value.\n",
    "    \n",
    "    Compute the averages for WA and CA.\"\"\"\n",
    "    data_wa = [x[1] for x in data if x[0]=='WA']\n",
    "    avg_wa = sum(data_wa)/len(data_wa)\n",
    "    data_ca = [x[1] for x in data if x[0]=='CA']\n",
    "    avg_ca = sum(data_ca)/len(data_ca)\n",
    "    return avg_wa, avg_ca\n",
    "wa_ca_averages([('WA',1), ('CA', 2), ('CA', 3)])"
   ]
  },
  {
   "cell_type": "code",
   "execution_count": 4,
   "metadata": {
    "collapsed": true,
    "slideshow": {
     "slide_type": "subslide"
    }
   },
   "outputs": [],
   "source": [
    "#Solution\n",
    "state_averages([('WA',1), ('CA', 2), ('CA', 3)])"
   ]
  },
  {
   "cell_type": "code",
   "execution_count": null,
   "metadata": {
    "collapsed": false,
    "slideshow": {
     "slide_type": "skip"
    }
   },
   "outputs": [],
   "source": [
    "def state_averages(data):\n",
    "    \"\"\"Arg a list of tuples with state and value.\n",
    "    Compute the averages for WA and CA.\"\"\"\n",
    "    avgs = {}\n",
    "    for state in set([x[0] for x in data]):\n",
    "        state_data = [x[1] for x in data if x[0]==state]\n",
    "        avgs[state] = sum(state_data) / len(state_data)\n",
    "    return avgs\n",
    "state_averages([('WA',1), ('CA', 2), ('CA', 3)])"
   ]
  },
  {
   "cell_type": "markdown",
   "metadata": {
    "slideshow": {
     "slide_type": "subslide"
    }
   },
   "source": [
    "How to recognize when you might be making this mistake:\n",
    "* Note the `variable_key` identifier liked `avg_ca` -- this is exactly what dicts are for.\n",
    "    * To use this pattern you need two pieces of information `variable` and `key`, which are the same two things required for a dictionary.\n",
    "    \n",
    "Why it's important:\n",
    "* Easy extensibility/generalizability of your code\n",
    "* Parsimony\n",
    "* DRY"
   ]
  },
  {
   "cell_type": "markdown",
   "metadata": {
    "slideshow": {
     "slide_type": "slide"
    }
   },
   "source": [
    "# Not using list comprehensions\n",
    "\n",
    "List comprehensions are a very tidy way of doing things that would otherwise require a for loop. Experienced Python programmers use them routinely."
   ]
  },
  {
   "cell_type": "code",
   "execution_count": null,
   "metadata": {
    "collapsed": false,
    "slideshow": {
     "slide_type": "subslide"
    }
   },
   "outputs": [],
   "source": [
    "raw_data = \"10:00am,60,Sapna;11:30am,30,Lin;2:00pm,60,Cary\"\n",
    "parsed_data = []\n",
    "for event in raw_data.split(';'):\n",
    "    schedule = []\n",
    "    for data in event.split(','):\n",
    "        schedule.append(data)\n",
    "    if int(schedule[1]) > 30:\n",
    "        parsed_data.append(schedule)\n",
    "print(parsed_data)"
   ]
  },
  {
   "cell_type": "code",
   "execution_count": null,
   "metadata": {
    "collapsed": true,
    "slideshow": {
     "slide_type": "subslide"
    }
   },
   "outputs": [],
   "source": [
    "#Solution\n",
    "raw_data = \"10:00am,60,Sapna;11:30am,30,Lin;2:00pm,60,Cary\"\n",
    "print(p)"
   ]
  },
  {
   "cell_type": "code",
   "execution_count": null,
   "metadata": {
    "collapsed": false,
    "slideshow": {
     "slide_type": "skip"
    }
   },
   "outputs": [],
   "source": [
    "parsed_data = [event for event in raw_data.split(';')]\n",
    "parsed_data = [event.split(',') for event in parsed_data]\n",
    "parsed_data = [event for event in parsed_data if int(event[1]) > 30]\n",
    "print(parsed_data)"
   ]
  },
  {
   "cell_type": "markdown",
   "metadata": {
    "slideshow": {
     "slide_type": "subslide"
    }
   },
   "source": [
    "How to know if you're making this mistake:\n",
    "* If your for loop is preceded by initializing an empty list, and ends with a `.append`.\n",
    "\n",
    "Why it's important:\n",
    "* Readability, much clearer with list comprehensions that the point of the code is to transform a list.\n",
    "* Flatness is nice. We love flatness."
   ]
  },
  {
   "cell_type": "markdown",
   "metadata": {
    "slideshow": {
     "slide_type": "slide"
    }
   },
   "source": [
    "# Using a list comprehension.\n",
    "\n",
    "You know how you sometimes do crazy things when you're in love? It's the same when you love list comprehensions."
   ]
  },
  {
   "cell_type": "code",
   "execution_count": null,
   "metadata": {
    "collapsed": false,
    "slideshow": {
     "slide_type": "subslide"
    }
   },
   "outputs": [],
   "source": [
    "parsed_data = [[x for x in event.split(',')] \n",
    "               for event in raw_data.split(';') \n",
    "               if int(event.split(',')[1]) > 30]\n",
    "print(parsed_data)"
   ]
  },
  {
   "cell_type": "markdown",
   "metadata": {
    "slideshow": {
     "slide_type": "subslide"
    }
   },
   "source": [
    "How to know if you're making this mistake:\n",
    "* You are writing a nested list comprehension.\n",
    "* Your list comprehension takes up many lines.\n",
    "* You're not _exactly_ sure what the output of your list comprehension will be.\n",
    "\n",
    "Why it's important:\n",
    "* Clarity\n",
    "* Demonstrates your good ability to choose the correct approach among several equivalent options"
   ]
  },
  {
   "cell_type": "markdown",
   "metadata": {
    "slideshow": {
     "slide_type": "slide"
    }
   },
   "source": [
    "# Doing too much work to iterate"
   ]
  },
  {
   "cell_type": "code",
   "execution_count": null,
   "metadata": {
    "collapsed": false,
    "slideshow": {
     "slide_type": "subslide"
    }
   },
   "outputs": [],
   "source": [
    "words = ['cat', 'bat', 'rat', 'dad']\n",
    "\n",
    "#C, javascript, matlab programmers\n",
    "i = 0\n",
    "while i < len(words):\n",
    "    print(words[i])\n",
    "    i+=1"
   ]
  },
  {
   "cell_type": "code",
   "execution_count": null,
   "metadata": {
    "collapsed": false,
    "slideshow": {
     "slide_type": "subslide"
    }
   },
   "outputs": [],
   "source": [
    "for i in range(len(words)):\n",
    "    print(words[i])\n",
    "#but I don't care where the word is!"
   ]
  },
  {
   "cell_type": "code",
   "execution_count": null,
   "metadata": {
    "collapsed": false,
    "slideshow": {
     "slide_type": "subslide"
    }
   },
   "outputs": [],
   "source": [
    "for i, word in enumerate(words):\n",
    "    print(words[i])"
   ]
  },
  {
   "cell_type": "code",
   "execution_count": null,
   "metadata": {
    "collapsed": true,
    "slideshow": {
     "slide_type": "fragment"
    }
   },
   "outputs": [],
   "source": [
    "#Solution"
   ]
  },
  {
   "cell_type": "code",
   "execution_count": null,
   "metadata": {
    "collapsed": false,
    "slideshow": {
     "slide_type": "skip"
    }
   },
   "outputs": [],
   "source": [
    "for word in words:\n",
    "    print(word)"
   ]
  },
  {
   "cell_type": "markdown",
   "metadata": {
    "slideshow": {
     "slide_type": "subslide"
    }
   },
   "source": [
    "How to recognize when you might be making this mistake:\n",
    "* You have to index into an iterable to get the specific value you're interested in.\n",
    "* You are explicitly incrementing indexes!\n",
    "* You have an a variable that you only use to index into an iterable.\n",
    "\n",
    "Why it's important:\n",
    "* Clarity\n",
    "* Allows good descriptive variable names"
   ]
  },
  {
   "cell_type": "markdown",
   "metadata": {
    "slideshow": {
     "slide_type": "slide"
    }
   },
   "source": [
    "# Not using enumerate!\n",
    "\n",
    "In the previous example we didn't care about the index of the words, but what if we do care?"
   ]
  },
  {
   "cell_type": "code",
   "execution_count": null,
   "metadata": {
    "collapsed": false,
    "slideshow": {
     "slide_type": "subslide"
    }
   },
   "outputs": [],
   "source": [
    "medals = ['gold', 'silver', 'broze']\n",
    "for i in range(len(medals)):\n",
    "    print('{} medal for {} place'.format(medals[i], i+1))"
   ]
  },
  {
   "cell_type": "code",
   "execution_count": null,
   "metadata": {
    "collapsed": true,
    "slideshow": {
     "slide_type": "fragment"
    }
   },
   "outputs": [],
   "source": [
    "#Solution."
   ]
  },
  {
   "cell_type": "code",
   "execution_count": null,
   "metadata": {
    "collapsed": false,
    "slideshow": {
     "slide_type": "skip"
    }
   },
   "outputs": [],
   "source": [
    "for place, medal in enumerate(medals, start=1):\n",
    "    print('{} medal for {} place'.format(medal, place))"
   ]
  },
  {
   "cell_type": "markdown",
   "metadata": {
    "slideshow": {
     "slide_type": "subslide"
    }
   },
   "source": [
    "How to recognize when you might be making this mistake:\n",
    "* You are indexing into your list inside a for loop.\n",
    "* You are adjusting the index for some other purpose inside the for loop.\n",
    "* Your variable names have no meaning, like `i`, because they serve multiple purposes.\n",
    "\n",
    "Why it's important to avoid:\n",
    "* Code readability\n",
    "* Avoid off-by-one errors."
   ]
  },
  {
   "cell_type": "markdown",
   "metadata": {
    "slideshow": {
     "slide_type": "slide"
    }
   },
   "source": [
    "# `print` instead of `return`"
   ]
  },
  {
   "cell_type": "code",
   "execution_count": 10,
   "metadata": {
    "collapsed": false,
    "slideshow": {
     "slide_type": "subslide"
    }
   },
   "outputs": [
    {
     "name": "stdout",
     "output_type": "stream",
     "text": [
      "it is a palindrome\n"
     ]
    }
   ],
   "source": [
    "def is_palindrome(word):\n",
    "    word = word.replace(' ', '')\n",
    "    word = word.lower()\n",
    "    if word == word[::-1]:\n",
    "        print(\"it is a palindrome\")\n",
    "    else:\n",
    "        print(\"it's not a palindrome\")\n",
    "is_palindrome('Too Bad I Hid A Boot')"
   ]
  },
  {
   "cell_type": "markdown",
   "metadata": {
    "slideshow": {
     "slide_type": "subslide"
    }
   },
   "source": [
    "How to recognize when you might be making this mistake:\n",
    "\n",
    "* You are using `print` inside a function whose primary purpose is something other than providing printed output for user.\n",
    "* Unless you're debugging.\n",
    "\n",
    "Why it's important to avoid:\n",
    "\n",
    "* You want to capture the output of your function so functions can be combined and reused effectively. `print` goes to stdout where it is hard to for other parts of your program to reach."
   ]
  },
  {
   "cell_type": "markdown",
   "metadata": {
    "slideshow": {
     "slide_type": "slide"
    }
   },
   "source": [
    "# Writing long lines!\n",
    "\n",
    "`pep8` is the document that describes stylistic conventions for python and specifies a maximum line length of 79 characters. People vary in their adherence to these rules, but experienced programmers of all stripes all have strategies for avoiding long lines."
   ]
  },
  {
   "cell_type": "code",
   "execution_count": null,
   "metadata": {
    "collapsed": false,
    "slideshow": {
     "slide_type": "subslide"
    }
   },
   "outputs": [],
   "source": [
    "import math\n",
    "lat1 = 53.32055555555556\n",
    "lat2 = 53.31861111111111\n",
    "long1 = -1.7297222222222221\n",
    "long2 = -1.6997222222222223\n",
    "\n",
    "bearing = (math.degrees(math.atan2(math.sin(long2-long1)*math.cos(lat2), math.cos(lat1)*math.sin(lat2)-math.sin(lat1)*math.cos(lat2)*math.cos(long2-long1))) + 360) % 360\n",
    "print('Your bearing at this moment is {}, please continue in this direction until you arrive'.format(bearing))"
   ]
  },
  {
   "cell_type": "code",
   "execution_count": null,
   "metadata": {
    "collapsed": true,
    "slideshow": {
     "slide_type": "subslide"
    }
   },
   "outputs": [],
   "source": [
    "#Solution\n",
    "import math\n",
    "lat1 = 53.32055555555556\n",
    "lat2 = 53.31861111111111\n",
    "long1 = -1.7297222222222221\n",
    "long2 = -1.6997222222222223\n",
    "\n",
    "bearing = (math.degrees(math.atan2(math.sin(long2-long1)*math.cos(lat2), math.cos(lat1)*math.sin(lat2)-math.sin(lat1)*math.cos(lat2)*math.cos(long2-long1))) + 360) % 360\n",
    "print('Your bearing at this moment is {}, please continue in this direction until you arrive'.format(bearing))"
   ]
  },
  {
   "cell_type": "code",
   "execution_count": null,
   "metadata": {
    "collapsed": false,
    "slideshow": {
     "slide_type": "skip"
    }
   },
   "outputs": [],
   "source": [
    "#Allow access to functions without indicating namespace.\n",
    "from math import degrees, atan2, sin, cos\n",
    "\n",
    "#if arguments are too long, assign them to variables.\n",
    "y = sin(long2-long1)*cos(lat2)\n",
    "#If variable definition is too long assign in multiple steps.\n",
    "x = cos(lat1)*sin(lat2)\n",
    "x -= sin(lat1)*cos(lat2)*cos(long2-long1)\n",
    "#Use the same name to represent work in progress...\n",
    "bearing = atan2(y, x)\n",
    "bearing = degrees(bearing)\n",
    "bearing = (bearing + 360) % 360\n",
    "\n",
    "#Create a string inside () with linebreaks, but no commas.\n",
    "msg = ('Your bearing at this moment is {}, please '\n",
    "       'continue in this direction until you arrive')\n",
    "\n",
    "#Call methods after assigning to variable.\n",
    "print(msg.format(bearing))\n",
    "\n",
    "#As a last resort you can use line continuation \\.\n"
   ]
  },
  {
   "cell_type": "markdown",
   "metadata": {
    "slideshow": {
     "slide_type": "subslide"
    }
   },
   "source": [
    "How to know you're making this mistake:\n",
    "* If the line wraps either your editing window is too small or you're over the limit.\n",
    "* If the pep8 checker or your IDE tells you.\n",
    "\n",
    "Why it's important:\n",
    "* Readability\n",
    "* Demonstrates concern for other users of your code--something good programmers do by default.\n",
    "* Professionalism, experienced coders do this regularly"
   ]
  },
  {
   "cell_type": "markdown",
   "metadata": {
    "slideshow": {
     "slide_type": "slide"
    }
   },
   "source": [
    "# Polluting your namespace"
   ]
  },
  {
   "cell_type": "code",
   "execution_count": null,
   "metadata": {
    "collapsed": true,
    "slideshow": {
     "slide_type": "subslide"
    }
   },
   "outputs": [],
   "source": [
    "from scipy import *"
   ]
  },
  {
   "cell_type": "markdown",
   "metadata": {
    "slideshow": {
     "slide_type": "subslide"
    }
   },
   "source": [
    "How to know you're making this mistake:\n",
    "* You type import *\n",
    "\n",
    "Why it's important:\n",
    "* Later users of your code will see a function used and wonder where it came from.\n",
    "* You may introduce pernicious bugs by filling your namespace with unknown things!"
   ]
  },
  {
   "cell_type": "markdown",
   "metadata": {
    "slideshow": {
     "slide_type": "slide"
    }
   },
   "source": [
    "# Doing dictionary iteration wrong\n",
    "\n",
    "Dictionaries are one of the most important types in python, so learning to use them according to best practices is a good idea!"
   ]
  },
  {
   "cell_type": "code",
   "execution_count": null,
   "metadata": {
    "collapsed": false,
    "slideshow": {
     "slide_type": "subslide"
    }
   },
   "outputs": [],
   "source": [
    "pet_foods = {'cat':'fish', 'dog':'meat', 'lizard':'crickets'}\n",
    "for pet in pet_foods.keys():\n",
    "    print('I have a {}'.format(pet))\n",
    "for pet in pet_foods.keys():\n",
    "    print('My {} eats {}'.format(pet, pet_foods[pet]))"
   ]
  },
  {
   "cell_type": "code",
   "execution_count": null,
   "metadata": {
    "collapsed": true,
    "slideshow": {
     "slide_type": "fragment"
    }
   },
   "outputs": [],
   "source": [
    "#Solution"
   ]
  },
  {
   "cell_type": "code",
   "execution_count": null,
   "metadata": {
    "collapsed": false,
    "slideshow": {
     "slide_type": "skip"
    }
   },
   "outputs": [],
   "source": [
    "for pet in pet_foods:\n",
    "    print ('I have a {}'.format(pet))\n",
    "for pet, food in pet_foods.items(): #.items for python3, .iteritems for python2\n",
    "    print ('My {} eats {}'.format(pet, food))"
   ]
  },
  {
   "cell_type": "markdown",
   "metadata": {
    "slideshow": {
     "slide_type": "subslide"
    }
   },
   "source": [
    "How to know if you're making this mistake:\n",
    "* You're using `.keys` to iterate over keys.\n",
    "* You're using something other than `.iteritems` to iterate over (key, value) tuples.\n",
    "\n",
    "Why it's important:\n",
    "* Demonstrates you know how to use the most important built-in types.\n",
    "* More memory efficient."
   ]
  },
  {
   "cell_type": "markdown",
   "metadata": {
    "collapsed": true,
    "slideshow": {
     "slide_type": "slide"
    }
   },
   "source": [
    "# Thank You\n",
    "\n",
    "## Isaac Laughlin\n",
    "Principal Instructor\n",
    "\n",
    "Galvanize\n",
    "\n",
    "San Francisco\n",
    "\n",
    "<a href=\"http://twitter.com/lemonlaug\">@lemonlaug</a>\n",
    "\n",
    "https://www.linkedin.com/in/ilaughlin\n",
    "\n",
    "isaac.laughlin@galvanize.com\n",
    "\n",
    "# <img src=\"http://www.galvanize.com/wp-content/themes/galvanize/img/galvanize-logo.svg\" />"
   ]
  }
 ],
 "metadata": {
  "celltoolbar": "Slideshow",
  "kernelspec": {
   "display_name": "Python 2",
   "language": "python",
   "name": "python2"
  },
  "language_info": {
   "codemirror_mode": {
    "name": "ipython",
    "version": 2
   },
   "file_extension": ".py",
   "mimetype": "text/x-python",
   "name": "python",
   "nbconvert_exporter": "python",
   "pygments_lexer": "ipython2",
   "version": "2.7.12"
  }
 },
 "nbformat": 4,
 "nbformat_minor": 0
}
