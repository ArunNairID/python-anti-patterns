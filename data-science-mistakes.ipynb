{
 "cells": [
  {
   "cell_type": "markdown",
   "metadata": {
    "slideshow": {
     "slide_type": "slide"
    }
   },
   "source": [
    "# Beginner Python Mistakes\n",
    "\n",
    "## What?\n",
    "\n",
    "At Galvanize, we see a lot of beginning Python programmers who are also beginning data scientists, and so have a unique insight into some of the traps they fall into."
   ]
  },
  {
   "cell_type": "markdown",
   "metadata": {
    "slideshow": {
     "slide_type": "fragment"
    }
   },
   "source": [
    "## So?\n",
    "\n",
    "Avoiding these mistakes may not change the logic nor execution time of your code (though some will), but it will let anybody else reading it know that you're fluent in Python.\n",
    "\n",
    "This is especially important in interviews, where you may not get a chance to overcome the first impression your code makes!"
   ]
  },
  {
   "cell_type": "markdown",
   "metadata": {
    "slideshow": {
     "slide_type": "subslide"
    }
   },
   "source": [
    "<img src=\"https://s3-us-west-2.amazonaws.com/galvanize.com-dev/galvanize-logo.svg\" width=\"500\">\n",
    "\n",
    "# About me:\n",
    "\n",
    "## Cary Goltermann\n",
    "DSI Instructor\n",
    "\n",
    "Galvanize\n",
    "\n",
    "San Francisco\n",
    "\n",
    "<a href=\"https://twitter.com/carygoltermann\">@carygoltermann</a>\n",
    "\n",
    "https://www.linkedin.com/in/carygoltermann\n",
    "\n",
    "cary.goltermann@galvanize.com"
   ]
  },
  {
   "cell_type": "markdown",
   "metadata": {
    "slideshow": {
     "slide_type": "subslide"
    }
   },
   "source": [
    "<img src=\"https://s3-us-west-2.amazonaws.com/galvanize.com-dev/galvanize-logo.svg\" width=\"500\">\n",
    "\n",
    "### A dynamic learning community for technology. A place where anyone with the aptitude and drive to learn can get the skills necessary to work in technology.\n"
   ]
  },
  {
   "cell_type": "markdown",
   "metadata": {
    "slideshow": {
     "slide_type": "subslide"
    }
   },
   "source": [
    "<img src=\"https://s3-us-west-2.amazonaws.com/galvanize.com-dev/galvanize-logo.svg\" width=\"500\">\n",
    "\n",
    "### Part-time classes\n",
    "* Web Development Foundations in Javascript\n",
    "* Data Science Fundamentals: Intro to Python\n",
    "* Intro to Spark for Data Science"
   ]
  },
  {
   "cell_type": "markdown",
   "metadata": {
    "slideshow": {
     "slide_type": "subslide"
    }
   },
   "source": [
    "<img src=\"https://s3-us-west-2.amazonaws.com/galvanize.com-dev/galvanize-logo.svg\" width=\"500\">\n",
    "\n",
    "### Full-time classes\n",
    "* Data Science Immersive \n",
    "* Web Development Immersive\n",
    "* Masters in Data Science"
   ]
  },
  {
   "cell_type": "markdown",
   "metadata": {
    "slideshow": {
     "slide_type": "slide"
    }
   },
   "source": [
    "# This presentation\n",
    "\n",
    "### Available at\n",
    "\n",
    "https://github.com/zipfian/python-anti-patterns"
   ]
  },
  {
   "cell_type": "markdown",
   "metadata": {
    "slideshow": {
     "slide_type": "fragment"
    }
   },
   "source": [
    "### Many thanks to Isaac Laughlin whose notebook, also included in the same repository, served as the basis for this presentation."
   ]
  },
  {
   "cell_type": "markdown",
   "metadata": {
    "slideshow": {
     "slide_type": "slide"
    }
   },
   "source": [
    "### Things to keep in mind about good Python code:\n",
    "* Readability\n",
    "* Extensibility\n",
    "* Succintness\n",
    "* Speed"
   ]
  },
  {
   "cell_type": "markdown",
   "metadata": {
    "slideshow": {
     "slide_type": "slide"
    }
   },
   "source": [
    "# Good Function Use\n",
    "The hallmark of a good programmer is dividing up a large, difficult problem into many, simple sub-problems. The means by which we do this in Python is with procedures, colloquially known as functions. (Python also has classes, but those are a talk in and of themselves.)"
   ]
  },
  {
   "cell_type": "markdown",
   "metadata": {
    "slideshow": {
     "slide_type": "slide"
    }
   },
   "source": [
    "# Using `print` instead of `return`"
   ]
  },
  {
   "cell_type": "code",
   "execution_count": null,
   "metadata": {
    "collapsed": true,
    "slideshow": {
     "slide_type": "subslide"
    }
   },
   "outputs": [],
   "source": [
    "def is_palindrome(word):\n",
    "    word = word.replace(' ', '')\n",
    "    word = word.lower()\n",
    "    if word == word[::-1]:\n",
    "        print(\"It's a palindrome\")\n",
    "    else:\n",
    "        print(\"It's not a palindrome\")\n",
    "is_palindrome('Too Bad I Hid A Boot')"
   ]
  },
  {
   "cell_type": "markdown",
   "metadata": {
    "slideshow": {
     "slide_type": "subslide"
    }
   },
   "source": [
    "### How to recognize when you might be making this mistake\n",
    "* You are using `print` inside a function whose primary purpose is something other than providing printed output for user.\n",
    "* Unless you're debugging. Good programmers use print statements, among other tools, liberially when debugging.\n",
    "\n",
    "### Why it's important to avoid\n",
    "* You want to capture the output of your function so functions can be combined and reused effectively. `print` goes to stdout, the screen, where it is hard to for other parts of your program to reach."
   ]
  },
  {
   "cell_type": "markdown",
   "metadata": {
    "slideshow": {
     "slide_type": "slide"
    }
   },
   "source": [
    "# Proper abstraction\n",
    "Just because you put some code in a function does not mean that you are using functions well. One of the main purposes of functions to to create a layer of abstraction around the process that the function performs. If that function isn't properly abstracted then the function is only useful in a single context, and therefore no better then if the code weren't in a function."
   ]
  },
  {
   "cell_type": "code",
   "execution_count": null,
   "metadata": {
    "collapsed": true,
    "slideshow": {
     "slide_type": "subslide"
    }
   },
   "outputs": [],
   "source": [
    "# Find row with highest number of 3s, take the average of that row's values with one 3 removed\n",
    "\n",
    "from __future__ import division\n",
    "\n",
    "data = [[1, 2, 3, 2, 3, 2, 1, 3, 1, 2, 2, 2],\n",
    "        [2, 3, 2, 3, 3, 2, 1, 1, 1, 2, 3, 3],\n",
    "        [1, 2, 3, 2, 2, 2, 2, 2, 1, 2, 3, 3,]]\n",
    "\n",
    "def find_avg_highest(data):\n",
    "    \"\"\"Args: list of lists of numbers.\n",
    "    \"\"\"\n",
    "    highest, row_idx = -1, -1\n",
    "    for i, row in enumerate(data):\n",
    "        if row.count(3) > highest:\n",
    "            row_idx = i\n",
    "    return augmented_avg(data[row_idx])\n",
    "\n",
    "def augmented_avg(row):\n",
    "    \"\"\"Args: list of numbers.\n",
    "    \"\"\"\n",
    "    augmented_row_sum = sum(row) - 3\n",
    "    return augmented_row_sum / len(row)\n",
    "\n",
    "find_avg_highest(data)"
   ]
  },
  {
   "cell_type": "code",
   "execution_count": null,
   "metadata": {
    "collapsed": true,
    "slideshow": {
     "slide_type": "subslide"
    }
   },
   "outputs": [],
   "source": [
    "# Solve it"
   ]
  },
  {
   "cell_type": "code",
   "execution_count": null,
   "metadata": {
    "collapsed": true,
    "slideshow": {
     "slide_type": "skip"
    }
   },
   "outputs": [],
   "source": [
    "# Solution\n",
    "\n",
    "def find_avg_highest(data, n=3):\n",
    "    \"\"\"Args: list of lists of numbers.\n",
    "    \"\"\"\n",
    "    highest, row_idx = -1, -1\n",
    "    for i, row in enumerate(data):\n",
    "        if row.count(n) > highest:\n",
    "            row_idx = i\n",
    "    return augmented_avg(data[row_idx], n)\n",
    "\n",
    "def augmented_avg(row, n, count=1):\n",
    "    \"\"\"Args: list of numbers.\n",
    "    \"\"\"\n",
    "    augmented_row_sum = sum(row) - n*count\n",
    "    return augmented_row_sum / len(row)\n",
    "\n",
    "find_avg_highest(data)"
   ]
  },
  {
   "cell_type": "markdown",
   "metadata": {
    "slideshow": {
     "slide_type": "subslide"
    }
   },
   "source": [
    "### How to recognize when you might be making this mistake\n",
    "* There are hard-coded values in a function.\n",
    "\n",
    "### Why it's important\n",
    "* Encourages code\n",
    "    * extensibility\n",
    "    * generalizability\n",
    "    * reuseability"
   ]
  },
  {
   "cell_type": "markdown",
   "metadata": {
    "slideshow": {
     "slide_type": "slide"
    }
   },
   "source": [
    "# Using Data Structures Well\n",
    "Python has many convenient data structures baked into the language that make powerful at succinctly expressing algorithms."
   ]
  },
  {
   "cell_type": "markdown",
   "metadata": {
    "slideshow": {
     "slide_type": "slide"
    }
   },
   "source": [
    "# Using (/not using) lists\n",
    "\n",
    "Everybody who learns Python learns about lists, but sometimes they still fail to use them in places where they're appropriate!"
   ]
  },
  {
   "cell_type": "code",
   "execution_count": null,
   "metadata": {
    "collapsed": true,
    "slideshow": {
     "slide_type": "subslide"
    }
   },
   "outputs": [],
   "source": [
    "# What does this look like?\n",
    "\n",
    "import collections\n",
    "\n",
    "def is_full_house(card1, card2, card3, card4, card5):\n",
    "    \"\"\"Args: five cards.\n",
    "    \n",
    "    Checks if a five card hand is a full house.\n",
    "    \"\"\"\n",
    "    counts = collections.Counter([card1['value'], card2['value'], card3['value'], \n",
    "                                  card4['value'], card5['value']]).values()\n",
    "    if 2 in counts and 3 in counts:\n",
    "        return True\n",
    "    return False\n",
    "\n",
    "is_full_house({'value': 'k'}, {'value': 'k'}, {'value': 'k'},\n",
    "              {'value': 'q'}, {'value': 'q'})"
   ]
  },
  {
   "cell_type": "code",
   "execution_count": null,
   "metadata": {
    "collapsed": true,
    "slideshow": {
     "slide_type": "fragment"
    }
   },
   "outputs": [],
   "source": [
    "# Solve it"
   ]
  },
  {
   "cell_type": "code",
   "execution_count": null,
   "metadata": {
    "collapsed": true,
    "slideshow": {
     "slide_type": "skip"
    }
   },
   "outputs": [],
   "source": [
    "# Solution\n",
    "def is_full_house(hand):\n",
    "    \"\"\"Args: list of five cards.\n",
    "    \n",
    "    Checks if a five card hand is a full house.\n",
    "    \"\"\"\n",
    "    counts = collections.Counter([card['value'] for card in hand]).values()\n",
    "    return 2 in counts and 3 in counts\n",
    "\n",
    "is_full_house([{'value': 'k'}, {'value': 'k'}, {'value': 'k'},\n",
    "               {'value': 'q'}, {'value': 'q'}])"
   ]
  },
  {
   "cell_type": "markdown",
   "metadata": {
    "slideshow": {
     "slide_type": "subslide"
    }
   },
   "source": [
    "### How to recognize when you might be making this mistake\n",
    "* Note the `variable_<index>` pattern in the variables `card1`, `card2`, etc. -- this is exactly what lists are for!\n",
    "* To use this pattern, you need to know the variable name, and the index, also what you need to know for a list.\n",
    "    \n",
    "### Why it's important\n",
    "* Easy extensibility/generalizability.\n",
    "* **D**on't **R**epeat **Y**ourself (DRY)"
   ]
  },
  {
   "cell_type": "markdown",
   "metadata": {
    "slideshow": {
     "slide_type": "slide"
    }
   },
   "source": [
    "# Using (/not using) dictionaries\n",
    "\n",
    "Dictionaries, or dicts, are one of the things that makes Python so special. Using them liberally (and correctly) is a good way to signal code intention!"
   ]
  },
  {
   "cell_type": "code",
   "execution_count": null,
   "metadata": {
    "collapsed": true,
    "slideshow": {
     "slide_type": "subslide"
    }
   },
   "outputs": [],
   "source": [
    "# What does this look like?\n",
    "\n",
    "from __future__ import division\n",
    "\n",
    "def wa_ca_averages(data):\n",
    "    \"\"\"Args: list of tuples with state and value.\n",
    "    \n",
    "    Compute the averages for WA and CA.\n",
    "    \"\"\"\n",
    "    data_wa = [x[1] for x in data if x[0] == 'WA']\n",
    "    avg_wa = sum(data_wa) / len(data_wa)\n",
    "    data_ca = [x[1] for x in data if x[0] == 'CA']\n",
    "    avg_ca = sum(data_ca) / len(data_ca)\n",
    "    return avg_wa, avg_ca\n",
    "\n",
    "wa_ca_averages([('WA', 1), ('WA', 3), ('CA', 2), ('CA', 3)])"
   ]
  },
  {
   "cell_type": "code",
   "execution_count": null,
   "metadata": {
    "collapsed": true,
    "slideshow": {
     "slide_type": "fragment"
    }
   },
   "outputs": [],
   "source": [
    "# Solve it\n",
    "state_averages([('WA', 1), ('WA', 3) ,('CA', 2), ('CA', 3)])"
   ]
  },
  {
   "cell_type": "code",
   "execution_count": null,
   "metadata": {
    "collapsed": true,
    "slideshow": {
     "slide_type": "skip"
    }
   },
   "outputs": [],
   "source": [
    "def state_averages(data):\n",
    "    \"\"\"Args: list of tuples with state and value.\n",
    "    \n",
    "    Compute the average value for each state.\n",
    "    \"\"\"\n",
    "    avgs = {}\n",
    "    for state in set([x[0] for x in data]):\n",
    "        state_data = [x[1] for x in data if x[0] == state]\n",
    "        avgs[state] = sum(state_data) / len(state_data)\n",
    "    return avgs\n",
    "\n",
    "state_averages([('WA', 1), ('WA', 3), ('CA', 2), ('CA', 3)])"
   ]
  },
  {
   "cell_type": "code",
   "execution_count": null,
   "metadata": {
    "collapsed": true,
    "slideshow": {
     "slide_type": "skip"
    }
   },
   "outputs": [],
   "source": [
    "# Better solution\n",
    "from collections import defaultdict\n",
    "\n",
    "def state_averages(data):\n",
    "    \"\"\"Args: list of tuples with state and value.\n",
    "    \n",
    "    Compute the average value for each state.\n",
    "    \"\"\"\n",
    "    state_data = defaultdict(list)\n",
    "    for state, value in data:\n",
    "        state_data[state].append(value)\n",
    "    \n",
    "    state_avgs = {state: sum(values) / len(values) for state, values in state_data.items()}\n",
    "    return state_avgs\n",
    "\n",
    "state_averages([('WA', 1), ('WA', 3), ('CA', 2), ('CA', 3)])"
   ]
  },
  {
   "cell_type": "markdown",
   "metadata": {
    "slideshow": {
     "slide_type": "subslide"
    }
   },
   "source": [
    "### How to recognize when you might be making this mistake\n",
    "* Note the `variable_<key>` identifier like `avg_ca` -- this is exactly what dicts are for.\n",
    "* To use this pattern you need two pieces of information `variable` and `key`, which are the same two things required for a dictionary.\n",
    "\n",
    "### Why it's important\n",
    "* Easy code extensibility/generalizability\n",
    "* Parsimony\n",
    "* DRY"
   ]
  },
  {
   "cell_type": "markdown",
   "metadata": {
    "slideshow": {
     "slide_type": "slide"
    }
   },
   "source": [
    "# List comprehensions\n",
    "\n",
    "List comprehensions are a very tidy way of doing things that would otherwise require a for loop. Experienced Python programmers use them routinely."
   ]
  },
  {
   "cell_type": "code",
   "execution_count": null,
   "metadata": {
    "collapsed": true,
    "slideshow": {
     "slide_type": "subslide"
    }
   },
   "outputs": [],
   "source": [
    "raw_data = \"10:00am,60,Sapna;11:30am,30,Lin;2:00pm,60,Cary\"\n",
    "parsed_data = []\n",
    "for event in raw_data.split(';'):\n",
    "    schedule = []\n",
    "    for data in event.split(','):\n",
    "        schedule.append(data)\n",
    "    if int(schedule[1]) > 30:\n",
    "        parsed_data.append(schedule)\n",
    "print(parsed_data)"
   ]
  },
  {
   "cell_type": "code",
   "execution_count": null,
   "metadata": {
    "collapsed": true,
    "slideshow": {
     "slide_type": "fragment"
    }
   },
   "outputs": [],
   "source": [
    "# Solve it\n",
    "raw_data = \"10:00am,60,Sapna;11:30am,30,Lin;2:00pm,60,Cary\""
   ]
  },
  {
   "cell_type": "code",
   "execution_count": null,
   "metadata": {
    "slideshow": {
     "slide_type": "skip"
    }
   },
   "outputs": [],
   "source": [
    "# Solution\n",
    "parsed_data = [event for event in raw_data.split(';')]\n",
    "parsed_data = [event.split(',') for event in parsed_data]\n",
    "parsed_data = [event for event in parsed_data if int(event[1]) > 30]\n",
    "print(parsed_data)"
   ]
  },
  {
   "cell_type": "markdown",
   "metadata": {
    "slideshow": {
     "slide_type": "subslide"
    }
   },
   "source": [
    "### How to know if you're making this mistake\n",
    "* If your for loop is preceded by initializing an empty list, and ends with a `.append()`.\n",
    "\n",
    "### Why it's important\n",
    "* Readability, much clearer with list comprehensions that the point of the code is to transform a list.\n",
    "* Flatness is nice. We love flatness."
   ]
  },
  {
   "cell_type": "markdown",
   "metadata": {
    "slideshow": {
     "slide_type": "slide"
    }
   },
   "source": [
    "# Overusing list comprehensions\n",
    "\n",
    "You know how you sometimes do crazy things when you're in love? It's the same when you love list comprehensions."
   ]
  },
  {
   "cell_type": "code",
   "execution_count": null,
   "metadata": {
    "collapsed": true,
    "slideshow": {
     "slide_type": "subslide"
    }
   },
   "outputs": [],
   "source": [
    "parsed_data = [[x for x in event.split(',')] \n",
    "               for event in raw_data.split(';')\n",
    "               if int(event.split(',')[1]) > 30]\n",
    "print(parsed_data)"
   ]
  },
  {
   "cell_type": "markdown",
   "metadata": {
    "slideshow": {
     "slide_type": "subslide"
    }
   },
   "source": [
    "### How to know if you're making this mistake\n",
    "* You are writing a nested list comprehension.\n",
    "* Your list comprehension takes up many lines.\n",
    "* You're not _exactly_ sure what the output of your list comprehension will be.\n",
    "\n",
    "### Why it's important to keep in mind\n",
    "* Clarity\n",
    "* Demonstrates your good ability to choose the correct approach among several equivalent options."
   ]
  },
  {
   "cell_type": "markdown",
   "metadata": {
    "slideshow": {
     "slide_type": "slide"
    }
   },
   "source": [
    "# Iteration\n",
    "In using Python's data structures one will inevitably need to iterate over their contents. Doing so Pythonically is a powerful signal of good code."
   ]
  },
  {
   "cell_type": "markdown",
   "metadata": {
    "slideshow": {
     "slide_type": "slide"
    }
   },
   "source": [
    "# Doing too much work to iterate\n",
    "Python has powerful and expressive tools that allow you to both iterate over collections easily and communicate your codes intention while you do it."
   ]
  },
  {
   "cell_type": "code",
   "execution_count": null,
   "metadata": {
    "collapsed": true,
    "slideshow": {
     "slide_type": "subslide"
    }
   },
   "outputs": [],
   "source": [
    "words = ['cat', 'bat', 'rat', 'dad']\n",
    "\n",
    "# C, javascript, matlab programmers\n",
    "i = 0\n",
    "while i < len(words):\n",
    "    print(words[i])\n",
    "    i += 1"
   ]
  },
  {
   "cell_type": "code",
   "execution_count": null,
   "metadata": {
    "collapsed": true,
    "slideshow": {
     "slide_type": "subslide"
    }
   },
   "outputs": [],
   "source": [
    "for i in range(len(words)):\n",
    "    print(words[i])\n",
    "# but I don't care where, what index, the word is at!"
   ]
  },
  {
   "cell_type": "code",
   "execution_count": null,
   "metadata": {
    "collapsed": true,
    "slideshow": {
     "slide_type": "fragment"
    }
   },
   "outputs": [],
   "source": [
    "# Solve it"
   ]
  },
  {
   "cell_type": "code",
   "execution_count": null,
   "metadata": {
    "collapsed": true,
    "slideshow": {
     "slide_type": "skip"
    }
   },
   "outputs": [],
   "source": [
    "# Solution\n",
    "for word in words:\n",
    "    print(word)"
   ]
  },
  {
   "cell_type": "markdown",
   "metadata": {
    "slideshow": {
     "slide_type": "subslide"
    }
   },
   "source": [
    "### How to recognize when you might be making this mistake\n",
    "* You have to index into an iterable to get the specific value you're interested in.\n",
    "* You are explicitly incrementing indexes!\n",
    "* You have an a variable that you only use to index into an iterable.\n",
    "\n",
    "### Why it's important\n",
    "* Clarity\n",
    "* Allows good descriptive variable names"
   ]
  },
  {
   "cell_type": "markdown",
   "metadata": {
    "slideshow": {
     "slide_type": "slide"
    }
   },
   "source": [
    "# Not using enumerate!\n",
    "\n",
    "In the previous example we didn't care about the index of the words, but what if we do care?"
   ]
  },
  {
   "cell_type": "code",
   "execution_count": null,
   "metadata": {
    "collapsed": true,
    "slideshow": {
     "slide_type": "subslide"
    }
   },
   "outputs": [],
   "source": [
    "medals = ['Gold', 'Silver', 'Bronze']\n",
    "for i in range(len(medals)):\n",
    "    print('{} medal for {} place'.format(medals[i], i+1))"
   ]
  },
  {
   "cell_type": "code",
   "execution_count": null,
   "metadata": {
    "collapsed": true,
    "slideshow": {
     "slide_type": "fragment"
    }
   },
   "outputs": [],
   "source": [
    "# Solve it"
   ]
  },
  {
   "cell_type": "code",
   "execution_count": null,
   "metadata": {
    "collapsed": true,
    "slideshow": {
     "slide_type": "skip"
    }
   },
   "outputs": [],
   "source": [
    "# Solution\n",
    "for place, medal in enumerate(medals, start=1):\n",
    "    print('{} medal for {} place'.format(medal, place))"
   ]
  },
  {
   "cell_type": "markdown",
   "metadata": {
    "slideshow": {
     "slide_type": "subslide"
    }
   },
   "source": [
    "### How to recognize when you might be making this mistake\n",
    "* You are indexing into your list inside a for loop.\n",
    "* You are adjusting the index for some other purpose inside the for loop.\n",
    "* Your variable names have no meaning, like `i`, because they serve multiple purposes.\n",
    "\n",
    "### Why it's important to avoid\n",
    "* Code readability.\n",
    "* Avoid off-by-one errors."
   ]
  },
  {
   "cell_type": "markdown",
   "metadata": {
    "slideshow": {
     "slide_type": "slide"
    }
   },
   "source": [
    "# Zipping\n",
    "Sometimes we need to iterate over two related data structures in parallel."
   ]
  },
  {
   "cell_type": "code",
   "execution_count": null,
   "metadata": {
    "collapsed": true,
    "slideshow": {
     "slide_type": "subslide"
    }
   },
   "outputs": [],
   "source": [
    "people = ['Isaac', 'Cary', 'Lee']\n",
    "favorite_foods = [['Italian', 'Indian'],\n",
    "                  ['Sushiritto'],\n",
    "                  ['French Fries', 'Mexican', 'Water']]\n",
    "for i in range(len(people)):\n",
    "    print('{} has {} favorite food(s).'.format(people[i], len(favorite_foods[i])))"
   ]
  },
  {
   "cell_type": "code",
   "execution_count": null,
   "metadata": {
    "collapsed": true,
    "slideshow": {
     "slide_type": "fragment"
    }
   },
   "outputs": [],
   "source": [
    "# Solve it"
   ]
  },
  {
   "cell_type": "code",
   "execution_count": null,
   "metadata": {
    "collapsed": true,
    "slideshow": {
     "slide_type": "skip"
    }
   },
   "outputs": [],
   "source": [
    "# Solution\n",
    "for person, foods in zip(people, favorite_foods):\n",
    "    print('{} has {} favorite food(s).'.format(person, len(foods)))"
   ]
  },
  {
   "cell_type": "markdown",
   "metadata": {
    "slideshow": {
     "slide_type": "subslide"
    }
   },
   "source": [
    "### How to recognize when you might be making this mistake\n",
    "* You are indexing into multiple lists in a for loop.\n",
    "\n",
    "### Why it's important to avoid\n",
    "* Code readability."
   ]
  },
  {
   "cell_type": "markdown",
   "metadata": {
    "slideshow": {
     "slide_type": "slide"
    }
   },
   "source": [
    "# Using the Correct Data Structure\n",
    "Frequently we want our code to run fast. One of the best ways to gain speed is to use the correct data structure for a given problem."
   ]
  },
  {
   "cell_type": "markdown",
   "metadata": {
    "slideshow": {
     "slide_type": "slide"
    }
   },
   "source": [
    "# Checking membership\n",
    "Frequently we want to check if something is a member of a certain set, e.g. for filtering."
   ]
  },
  {
   "cell_type": "code",
   "execution_count": null,
   "metadata": {
    "collapsed": true,
    "slideshow": {
     "slide_type": "subslide"
    }
   },
   "outputs": [],
   "source": [
    "stop_words = ['the', 'a', 'and', 'has', 'are', 'an', 'but', 'as',\n",
    "              'though', 'while', 'in', 'also', 'on', 'with', 'upon']\n",
    "text = (\"A childrens show has brothers. The brothers are named Burt and Ernie.\"\n",
    "        \"While Burt and Ernie are brothers they are also friends.\"\n",
    "        \"Burt and Ernie live on Sesame Street with Big Bird.\")\n",
    "words = text.lower().strip('.').split()\n",
    "\n",
    "%timeit [word for word in words if word not in stop_words]"
   ]
  },
  {
   "cell_type": "code",
   "execution_count": null,
   "metadata": {
    "collapsed": true,
    "slideshow": {
     "slide_type": "fragment"
    }
   },
   "outputs": [],
   "source": [
    "# Solve it"
   ]
  },
  {
   "cell_type": "code",
   "execution_count": null,
   "metadata": {
    "collapsed": true,
    "slideshow": {
     "slide_type": "skip"
    }
   },
   "outputs": [],
   "source": [
    "# Solution\n",
    "stop_words = {'the', 'a', 'and', 'has', 'are', 'an', 'but', 'as',\n",
    "              'though', 'while', 'in', 'also', 'on', 'with', 'upon'}\n",
    "text = (\"A childrens show has brothers. The brothers are named Burt and Ernie.\"\n",
    "        \"While Burt and Ernie are brothers they are also friends.\"\n",
    "        \"Burt and Ernie live on Sesame Street with Big Bird.\")\n",
    "words = text.lower().strip('.').split()\n",
    "\n",
    "%timeit [word for word in words if word not in stop_words]"
   ]
  },
  {
   "cell_type": "markdown",
   "metadata": {
    "slideshow": {
     "slide_type": "subslide"
    }
   },
   "source": [
    "### Let's see an extreme example of this"
   ]
  },
  {
   "cell_type": "code",
   "execution_count": null,
   "metadata": {
    "collapsed": true,
    "slideshow": {
     "slide_type": "fragment"
    }
   },
   "outputs": [],
   "source": [
    "large_list = range(10000)\n",
    "%timeit 8000 in large_list"
   ]
  },
  {
   "cell_type": "code",
   "execution_count": null,
   "metadata": {
    "collapsed": true,
    "slideshow": {
     "slide_type": "fragment"
    }
   },
   "outputs": [],
   "source": [
    "large_set = set(range(10000))\n",
    "%timeit 8000 in large_set"
   ]
  },
  {
   "cell_type": "markdown",
   "metadata": {
    "slideshow": {
     "slide_type": "slide"
    }
   },
   "source": [
    "# NumPy arrays\n",
    "Frequently in data science we need to work with arrays of numbers. In these cases it's much less performant to store and operate on our data in lists"
   ]
  },
  {
   "cell_type": "code",
   "execution_count": null,
   "metadata": {
    "collapsed": true,
    "slideshow": {
     "slide_type": "subslide"
    }
   },
   "outputs": [],
   "source": [
    "data = list(range(1000))\n",
    "%timeit data_plus_one = [x + 1 for x in data]\n",
    "print(data_plus_one[:10])\n",
    "\n",
    "other_data = list(range(1, 1001))\n",
    "%timeit data_sum = [x + y for x, y in zip(data, other_data)]\n",
    "print(data_sum[:10])"
   ]
  },
  {
   "cell_type": "code",
   "execution_count": null,
   "metadata": {
    "collapsed": true,
    "slideshow": {
     "slide_type": "fragment"
    }
   },
   "outputs": [],
   "source": [
    "# Solve it"
   ]
  },
  {
   "cell_type": "code",
   "execution_count": null,
   "metadata": {
    "collapsed": true,
    "slideshow": {
     "slide_type": "skip"
    }
   },
   "outputs": [],
   "source": [
    "# Solution\n",
    "import numpy as np\n",
    "\n",
    "data = np.array(range(1000))\n",
    "%timeit data_plus_one = data + 1\n",
    "print(data_plus_one[:10])\n",
    "\n",
    "other_data = np.array(range(1, 1001))\n",
    "%timeit data_sum = data + other_data\n",
    "print(data_sum[:10])"
   ]
  },
  {
   "cell_type": "markdown",
   "metadata": {
    "slideshow": {
     "slide_type": "slide"
    }
   },
   "source": [
    "# Doing dictionary iteration wrong\n",
    "\n",
    "Dictionaries are one of the most important types in Python, so learning to use them according to best practices is a good idea!"
   ]
  },
  {
   "cell_type": "code",
   "execution_count": null,
   "metadata": {
    "collapsed": true,
    "slideshow": {
     "slide_type": "subslide"
    }
   },
   "outputs": [],
   "source": [
    "pet_foods = {'cat': 'fish', 'dog': 'meat', 'lizard': 'crickets'}\n",
    "\n",
    "for pet in pet_foods.keys():\n",
    "    print('I have a {}'.format(pet))\n",
    "for pet in pet_foods.keys():\n",
    "    print('My {} eats {}'.format(pet, pet_foods[pet]))"
   ]
  },
  {
   "cell_type": "code",
   "execution_count": null,
   "metadata": {
    "collapsed": true,
    "slideshow": {
     "slide_type": "fragment"
    }
   },
   "outputs": [],
   "source": [
    "# Solve it"
   ]
  },
  {
   "cell_type": "code",
   "execution_count": null,
   "metadata": {
    "collapsed": true,
    "slideshow": {
     "slide_type": "skip"
    }
   },
   "outputs": [],
   "source": [
    "# Solution\n",
    "for pet in pet_foods:\n",
    "    print('I have a {}'.format(pet))\n",
    "for pet, food in pet_foods.items(): # .items() for python3, .iteritems() for python2\n",
    "    print('My {} eats {}'.format(pet, food))"
   ]
  },
  {
   "cell_type": "markdown",
   "metadata": {
    "slideshow": {
     "slide_type": "subslide"
    }
   },
   "source": [
    "### How to know if you're making this mistake\n",
    "* You're using `.keys()` to iterate over keys.\n",
    "* You're using something other than `.iteritems()` to iterate over (key, value) tuples.\n",
    "\n",
    "### Why it's important avoid\n",
    "* Demonstrates you know how to use the most important built-in types.\n",
    "* More memory efficient."
   ]
  },
  {
   "cell_type": "markdown",
   "metadata": {
    "slideshow": {
     "slide_type": "slide"
    }
   },
   "source": [
    "# Writing long lines!\n",
    "\n",
    "`pep8` is the document that describes stylistic conventions for python and specifies a maximum line length of 79 characters. People vary in their adherence to these rules, but experienced programmers of all stripes all have strategies for avoiding long lines."
   ]
  },
  {
   "cell_type": "code",
   "execution_count": null,
   "metadata": {
    "collapsed": true,
    "slideshow": {
     "slide_type": "subslide"
    }
   },
   "outputs": [],
   "source": [
    "import math\n",
    "\n",
    "lat1 = 53.32055555555556\n",
    "lat2 = 53.31861111111111\n",
    "long1 = -1.7297222222222221\n",
    "long2 = -1.6997222222222223\n",
    "\n",
    "bearing = (math.degrees(math.atan2(math.sin(long2-long1)*math.cos(lat2), math.cos(lat1)*math.sin(lat2)-math.sin(lat1)*math.cos(lat2)*math.cos(long2-long1))) + 360) % 360\n",
    "print('Your bearing at this moment is {}, please continue in this direction until you arrive'.format(bearing))"
   ]
  },
  {
   "cell_type": "code",
   "execution_count": null,
   "metadata": {
    "collapsed": true,
    "slideshow": {
     "slide_type": "subslide"
    }
   },
   "outputs": [],
   "source": [
    "# Allow access to functions without indicating namespace.\n",
    "from math import degrees, atan2, sin, cos\n",
    "\n",
    "# If arguments are too long, assign them to variables.\n",
    "y = sin(long2 - long1) * cos(lat2)\n",
    "# If variable definition is too long assign in multiple steps.\n",
    "x = cos(lat1) * sin(lat2)\n",
    "x -= sin(lat1) * cos(lat2) * cos(long2 - long1)\n",
    "# Use the same name to represent work in progress...\n",
    "bearing = atan2(y, x)\n",
    "bearing = degrees(bearing)\n",
    "bearing = (bearing + 360) % 360\n",
    "\n",
    "# Create a string inside () with linebreaks, but no commas.\n",
    "msg = ('Your bearing at this moment is {}, please '\n",
    "       'continue in this direction until you arrive')\n",
    "\n",
    "# Call methods after assigning to variable.\n",
    "print(msg.format(bearing))\n",
    "\n",
    "# As a last resort you can use line continuation \\.\n"
   ]
  },
  {
   "cell_type": "markdown",
   "metadata": {
    "slideshow": {
     "slide_type": "subslide"
    }
   },
   "source": [
    "### How to know you're making this mistake\n",
    "* If the line wraps either your editing window is too small or you're over the limit.\n",
    "* If the pep8 checker or your IDE tells you.\n",
    "\n",
    "### Why it's important\n",
    "* Readability\n",
    "* Demonstrates concern for other users of your code -- something good programmers do by default.\n",
    "* Professionalism, experienced coders do this regularly."
   ]
  },
  {
   "cell_type": "markdown",
   "metadata": {
    "slideshow": {
     "slide_type": "slide"
    }
   },
   "source": [
    "# Polluting your namespace"
   ]
  },
  {
   "cell_type": "code",
   "execution_count": null,
   "metadata": {
    "collapsed": true,
    "slideshow": {
     "slide_type": "subslide"
    }
   },
   "outputs": [],
   "source": [
    "from scipy import *"
   ]
  },
  {
   "cell_type": "markdown",
   "metadata": {
    "slideshow": {
     "slide_type": "subslide"
    }
   },
   "source": [
    "### How to know you're making this mistake\n",
    "* You type `from ... import *`\n",
    "\n",
    "### Why it's important to avoid\n",
    "* Later users of your code will see a function used and wonder where it came from.\n",
    "* You may introduce pernicious bugs by filling your namespace with unknown things!"
   ]
  },
  {
   "cell_type": "markdown",
   "metadata": {
    "collapsed": true,
    "slideshow": {
     "slide_type": "slide"
    }
   },
   "source": [
    "# Thank You\n",
    "\n",
    "## Cary Goltermann\n",
    "DSI Instructor\n",
    "\n",
    "Galvanize\n",
    "\n",
    "San Francisco\n",
    "\n",
    "<a href=\"https://twitter.com/carygoltermann\">@carygoltermann</a>\n",
    "\n",
    "https://www.linkedin.com/in/carygoltermann\n",
    "\n",
    "cary.goltermann@galvanize.com\n",
    "\n",
    "<img src=\"https://s3-us-west-2.amazonaws.com/galvanize.com-dev/galvanize-logo.svg\" width=\"500\">"
   ]
  }
 ],
 "metadata": {
  "celltoolbar": "Slideshow",
  "kernelspec": {
   "display_name": "Python 2",
   "language": "python",
   "name": "python2"
  },
  "language_info": {
   "codemirror_mode": {
    "name": "ipython",
    "version": 2
   },
   "file_extension": ".py",
   "mimetype": "text/x-python",
   "name": "python",
   "nbconvert_exporter": "python",
   "pygments_lexer": "ipython2",
   "version": "2.7.11"
  }
 },
 "nbformat": 4,
 "nbformat_minor": 1
}
