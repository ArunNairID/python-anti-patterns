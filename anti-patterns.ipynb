{
 "cells": [
  {
   "cell_type": "markdown",
   "metadata": {},
   "source": [
    "# Beginner Python Mistakes\n",
    "\n",
    "## What?\n",
    "\n",
    "At Galvanize, we see a lot of beginning Python programmers, and so have a unique insight into some of the traps they fall into.\n",
    "\n",
    "## So?\n",
    "\n",
    "Avoiding these mistakes may not change the logic or execution time of your code, but it will let anybody else reading it know that you're fluent in Python.\n",
    "\n",
    "This is especially important in interviews, where you may not get a chance to overcome the first impression your code makes!"
   ]
  },
  {
   "cell_type": "markdown",
   "metadata": {},
   "source": [
    "# About me:\n",
    "\n",
    "## Isaac Laughlin\n",
    "Principal Instructor\n",
    "\n",
    "Galvanize\n",
    "\n",
    "San Francisco\n",
    "\n",
    "<a href=\"http://twitter.com/lemonlaug\">@lemonlaug</a>\n",
    "\n",
    "https://www.linkedin.com/in/ilaughlin\n",
    "\n",
    "isaac.laughlin@galvanize.com"
   ]
  },
  {
   "cell_type": "markdown",
   "metadata": {},
   "source": [
    "# <a href=\"http://galvanize.com\">Galvanize</a>\n",
    "\n",
    "A dynamic learning community for technology. A place where anyone with the aptitude and drive to learn can get the skills necessary to work in technology.\n",
    "\n",
    "### Part-time classes\n",
    "* Web Development Foundations in Javascript\n",
    "* Data Science Fundamentals: Intro to Python\n",
    "* Intro to Spark for Data Science\n",
    "\n",
    "### Full-time classes\n",
    "* Data Science Immersive \n",
    "* Web Development Immersive\n",
    "* Masters in Data Science\n",
    "* Data Engineering"
   ]
  },
  {
   "cell_type": "markdown",
   "metadata": {},
   "source": [
    "# Not using lists\n",
    "\n",
    "Everybody who learns python learns about lists, but sometimes they still fail to use them in places where they're appropriate!"
   ]
  },
  {
   "cell_type": "code",
   "execution_count": 45,
   "metadata": {
    "collapsed": false
   },
   "outputs": [
    {
     "data": {
      "text/plain": [
       "True"
      ]
     },
     "execution_count": 45,
     "metadata": {},
     "output_type": "execute_result"
    }
   ],
   "source": [
    "#What's this look like?\n",
    "import collections\n",
    "def is_full_house(card1, card2, card3, card4, card5):\n",
    "    \"\"\"Args: five cards.\n",
    "    \n",
    "    Checks if a five card hand is a full house.\n",
    "    \"\"\"\n",
    "    counts = collections.Counter([card1['value'], card2['value'], card3['value'], \n",
    "                        card4['value'], card5['value']]).values()\n",
    "    if 2 in counts and 3 in counts:\n",
    "        return True\n",
    "    return False\n",
    "is_full_house({'value':'k'}, {'value':'k'}, {'value':'k'},\n",
    "             {'value':'q'}, {'value':'q'})"
   ]
  },
  {
   "cell_type": "code",
   "execution_count": 46,
   "metadata": {
    "collapsed": false
   },
   "outputs": [
    {
     "name": "stdout",
     "output_type": "stream",
     "text": [
      "[2, 3]\n"
     ]
    },
    {
     "data": {
      "text/plain": [
       "True"
      ]
     },
     "execution_count": 46,
     "metadata": {},
     "output_type": "execute_result"
    }
   ],
   "source": [
    "def is_full_house(hand):\n",
    "    \"\"\"Args: list of five cards.\n",
    "    \n",
    "    Checks if a five card hand is a full house.\n",
    "    \"\"\"\n",
    "    counts = collections.Counter([card['value'] for card in hand]).values()\n",
    "    print counts\n",
    "    if 2 in counts and 3 in counts:\n",
    "        return True\n",
    "    return False\n",
    "is_full_house([{'value':'k'}, {'value':'k'}, {'value':'k'},\n",
    "             {'value':'q'}, {'value':'q'}])"
   ]
  },
  {
   "cell_type": "markdown",
   "metadata": {},
   "source": [
    "How to recognize when you might be making this mistake:\n",
    "* Note the `variable_index` pattern in `card1` -- this is exactly what lists are for!\n",
    "    * To use this pattern, you need to know the variable name, and the index, also what you need to know for a list"
   ]
  },
  {
   "cell_type": "markdown",
   "metadata": {},
   "source": [
    "# Not using dicts\n",
    "\n",
    "Dicts are one of the things that makes Python so special, so using them liberally (and correctly) is a good way to signal your use!"
   ]
  },
  {
   "cell_type": "code",
   "execution_count": 18,
   "metadata": {
    "collapsed": false
   },
   "outputs": [
    {
     "data": {
      "text/plain": [
       "(1.0, 2.5)"
      ]
     },
     "execution_count": 18,
     "metadata": {},
     "output_type": "execute_result"
    }
   ],
   "source": [
    "from __future__ import division\n",
    "#What's this look like?\n",
    "def wa_ca_averages(data):\n",
    "    \"\"\"Arg a list of tuples with state and value.\n",
    "    \n",
    "    Compute the averages for WA and CA.\"\"\"\n",
    "    data_wa = [x[1] for x in data if x[0]=='WA']\n",
    "    avg_wa = sum(data_wa)/len(data_wa)\n",
    "    data_ca = [x[1] for x in data if x[0]=='CA']\n",
    "    avg_ca = sum(data_ca)/len(data_ca)\n",
    "    return avg_wa, avg_ca\n",
    "wa_ca_averages([('WA',1), ('CA', 2), ('CA', 3)])"
   ]
  },
  {
   "cell_type": "code",
   "execution_count": 24,
   "metadata": {
    "collapsed": false
   },
   "outputs": [
    {
     "data": {
      "text/plain": [
       "{'CA': 2.5, 'WA': 1.0}"
      ]
     },
     "execution_count": 24,
     "metadata": {},
     "output_type": "execute_result"
    }
   ],
   "source": [
    "def state_averages(data):\n",
    "    \"\"\"Arg a list of tuples with state and value.\n",
    "    Compute the averages for WA and CA.\"\"\"\n",
    "    avgs = {}\n",
    "    for state in set([x[0] for x in data]):\n",
    "        state_data = [x[1] for x in data if x[0]==state]\n",
    "        avgs[state] = sum(state_data) / len(state_data)\n",
    "    return avgs\n",
    "state_averages([('WA',1), ('CA', 2), ('CA', 3)])"
   ]
  },
  {
   "cell_type": "markdown",
   "metadata": {},
   "source": [
    "How to recognize when you might be making this mistake:\n",
    "* Note the `variable_key` identifier liked `avg_ca` -- this is exactly what dicts are for.\n",
    "    * To use this pattern you need two pieces of information `variable` and `key`, which are the same two things required for a dictionary."
   ]
  },
  {
   "cell_type": "markdown",
   "metadata": {},
   "source": [
    "# Doing too much to iterate."
   ]
  },
  {
   "cell_type": "code",
   "execution_count": 30,
   "metadata": {
    "collapsed": false
   },
   "outputs": [
    {
     "name": "stdout",
     "output_type": "stream",
     "text": [
      "cat\n",
      "bat\n",
      "rat\n",
      "dad\n"
     ]
    }
   ],
   "source": [
    "words = ['cat', 'bat', 'rat', 'dad']\n",
    "\n",
    "#C, javascript, matlab programmers\n",
    "i = 0\n",
    "while i < len(words):\n",
    "    print words[i]\n",
    "    i+=1"
   ]
  },
  {
   "cell_type": "code",
   "execution_count": 36,
   "metadata": {
    "collapsed": false
   },
   "outputs": [
    {
     "name": "stdout",
     "output_type": "stream",
     "text": [
      "cat\n",
      "bat\n",
      "rat\n",
      "dad\n"
     ]
    }
   ],
   "source": [
    "for i in range(len(words)):\n",
    "    print words[i]\n",
    "#but I don't care where the word is!"
   ]
  },
  {
   "cell_type": "code",
   "execution_count": 37,
   "metadata": {
    "collapsed": false
   },
   "outputs": [
    {
     "name": "stdout",
     "output_type": "stream",
     "text": [
      "cat\n",
      "bat\n",
      "rat\n",
      "dad\n"
     ]
    }
   ],
   "source": [
    "for word in words:\n",
    "    print word"
   ]
  },
  {
   "cell_type": "markdown",
   "metadata": {},
   "source": [
    "How to recognize when you might be making this mistake:\n",
    "\n",
    "* You have to index into an iterable to get the specific value you're interested in.\n",
    "* You are explicitly incrementing indexes!\n",
    "* You have an a variable that you only use to index into an iterable."
   ]
  },
  {
   "cell_type": "markdown",
   "metadata": {},
   "source": [
    "# Not using enumerate!\n",
    "\n",
    "In the previous example we didn't care about the index of the words, but what if we do care?"
   ]
  },
  {
   "cell_type": "code",
   "execution_count": 41,
   "metadata": {
    "collapsed": false
   },
   "outputs": [
    {
     "name": "stdout",
     "output_type": "stream",
     "text": [
      "gold medal for 1 place\n",
      "silver medal for 2 place\n",
      "broze medal for 3 place\n"
     ]
    }
   ],
   "source": [
    "medals = ['gold', 'silver', 'broze']\n",
    "for i in range(len(medals)):\n",
    "    print('{} medal for {} place'.format(medals[i], i+1))"
   ]
  },
  {
   "cell_type": "code",
   "execution_count": 44,
   "metadata": {
    "collapsed": false
   },
   "outputs": [
    {
     "name": "stdout",
     "output_type": "stream",
     "text": [
      "gold medal for 1 place\n",
      "silver medal for 2 place\n",
      "broze medal for 3 place\n"
     ]
    }
   ],
   "source": [
    "for place, medal in enumerate(medals, start=1):\n",
    "    print('{} medal for {} place'.format(medal, place))"
   ]
  },
  {
   "cell_type": "markdown",
   "metadata": {},
   "source": [
    "How to recognize when you might be making this mistake:\n",
    "* You are indexing into your list inside a for loop.\n",
    "* You are adjusting the index for some other purpose inside the for loop.\n",
    "* Your variable names have no meaning, like `i`, because they serve multiple purposes."
   ]
  },
  {
   "cell_type": "markdown",
   "metadata": {},
   "source": [
    "# `print` instead of `return`"
   ]
  },
  {
   "cell_type": "markdown",
   "metadata": {},
   "source": [
    "# Not iterating over dictionaries!"
   ]
  },
  {
   "cell_type": "markdown",
   "metadata": {},
   "source": [
    "# Not "
   ]
  }
 ],
 "metadata": {
  "kernelspec": {
   "display_name": "Python 2",
   "language": "python",
   "name": "python2"
  },
  "language_info": {
   "codemirror_mode": {
    "name": "ipython",
    "version": 2
   },
   "file_extension": ".py",
   "mimetype": "text/x-python",
   "name": "python",
   "nbconvert_exporter": "python",
   "pygments_lexer": "ipython2",
   "version": "2.7.12"
  }
 },
 "nbformat": 4,
 "nbformat_minor": 0
}
